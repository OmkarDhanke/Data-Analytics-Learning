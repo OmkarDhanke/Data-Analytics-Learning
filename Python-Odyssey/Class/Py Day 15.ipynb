{
 "cells": [
  {
   "cell_type": "markdown",
   "metadata": {
    "id": "OWtvvmuib9Vo"
   },
   "source": [
    "# **Day 15 Function**"
   ]
  },
  {
   "cell_type": "markdown",
   "metadata": {
    "id": "qRgBy5Cag3Ta"
   },
   "source": [
    "## **Predefine Function in Python**"
   ]
  },
  {
   "cell_type": "code",
   "execution_count": 16,
   "metadata": {
    "colab": {
     "base_uri": "https://localhost:8080/"
    },
    "executionInfo": {
     "elapsed": 368,
     "status": "ok",
     "timestamp": 1760425173236,
     "user": {
      "displayName": "Omkar Dhanke",
      "userId": "11081068749527924415"
     },
     "user_tz": -330
    },
    "id": "XbDMTvi0atht",
    "outputId": "e5bbf0ab-c734-4373-92de-d2aca5f1e1ba"
   },
   "outputs": [
    {
     "data": {
      "text/plain": [
       "1"
      ]
     },
     "execution_count": 16,
     "metadata": {},
     "output_type": "execute_result"
    }
   ],
   "source": [
    "a = [1,2,3,5,4,6]\n",
    "min(a)"
   ]
  },
  {
   "cell_type": "code",
   "execution_count": 17,
   "metadata": {
    "colab": {
     "base_uri": "https://localhost:8080/"
    },
    "executionInfo": {
     "elapsed": 44,
     "status": "ok",
     "timestamp": 1760425173243,
     "user": {
      "displayName": "Omkar Dhanke",
      "userId": "11081068749527924415"
     },
     "user_tz": -330
    },
    "id": "BtgQ7ybkfi9U",
    "outputId": "78de67df-8281-4471-d072-f0bc3ee55eff"
   },
   "outputs": [
    {
     "data": {
      "text/plain": [
       "6"
      ]
     },
     "execution_count": 17,
     "metadata": {},
     "output_type": "execute_result"
    }
   ],
   "source": [
    "max(a)"
   ]
  },
  {
   "cell_type": "code",
   "execution_count": 18,
   "metadata": {
    "colab": {
     "base_uri": "https://localhost:8080/"
    },
    "executionInfo": {
     "elapsed": 37,
     "status": "ok",
     "timestamp": 1760425173252,
     "user": {
      "displayName": "Omkar Dhanke",
      "userId": "11081068749527924415"
     },
     "user_tz": -330
    },
    "id": "f0iR3nWpfk1x",
    "outputId": "4e07b603-b21a-419e-8b5c-9857b2334f45"
   },
   "outputs": [
    {
     "data": {
      "text/plain": [
       "21"
      ]
     },
     "execution_count": 18,
     "metadata": {},
     "output_type": "execute_result"
    }
   ],
   "source": [
    "sum(a)"
   ]
  },
  {
   "cell_type": "code",
   "execution_count": 19,
   "metadata": {
    "colab": {
     "base_uri": "https://localhost:8080/"
    },
    "executionInfo": {
     "elapsed": 12,
     "status": "ok",
     "timestamp": 1760425173265,
     "user": {
      "displayName": "Omkar Dhanke",
      "userId": "11081068749527924415"
     },
     "user_tz": -330
    },
    "id": "Mw22cD3ofmZn",
    "outputId": "ba136625-52b9-4ffe-edc1-6c6c52a67c5f"
   },
   "outputs": [
    {
     "data": {
      "text/plain": [
       "1"
      ]
     },
     "execution_count": 19,
     "metadata": {},
     "output_type": "execute_result"
    }
   ],
   "source": [
    "a.count(1)"
   ]
  },
  {
   "cell_type": "code",
   "execution_count": 20,
   "metadata": {
    "colab": {
     "base_uri": "https://localhost:8080/"
    },
    "executionInfo": {
     "elapsed": 10,
     "status": "ok",
     "timestamp": 1760425173278,
     "user": {
      "displayName": "Omkar Dhanke",
      "userId": "11081068749527924415"
     },
     "user_tz": -330
    },
    "id": "XSfwK_e0fr_0",
    "outputId": "e1a9ad57-ed65-46ab-f6b1-0e2ea9d2af0c"
   },
   "outputs": [
    {
     "data": {
      "text/plain": [
       "21"
      ]
     },
     "execution_count": 20,
     "metadata": {},
     "output_type": "execute_result"
    }
   ],
   "source": [
    "sum(a)"
   ]
  },
  {
   "cell_type": "code",
   "execution_count": 21,
   "metadata": {
    "colab": {
     "base_uri": "https://localhost:8080/"
    },
    "executionInfo": {
     "elapsed": 12,
     "status": "ok",
     "timestamp": 1760425173294,
     "user": {
      "displayName": "Omkar Dhanke",
      "userId": "11081068749527924415"
     },
     "user_tz": -330
    },
    "id": "PyDEao0dfuAH",
    "outputId": "2a4f345f-b301-46d2-9011-8f951c472294"
   },
   "outputs": [
    {
     "data": {
      "text/plain": [
       "9"
      ]
     },
     "execution_count": 21,
     "metadata": {},
     "output_type": "execute_result"
    }
   ],
   "source": [
    "x = 3\n",
    "y = 2\n",
    "pow(x,y)"
   ]
  },
  {
   "cell_type": "markdown",
   "metadata": {
    "id": "F6l6wV1ag-Up"
   },
   "source": [
    "# **User Define Funtion**"
   ]
  },
  {
   "cell_type": "code",
   "execution_count": 23,
   "metadata": {
    "executionInfo": {
     "elapsed": 4,
     "status": "ok",
     "timestamp": 1760425367227,
     "user": {
      "displayName": "Omkar Dhanke",
      "userId": "11081068749527924415"
     },
     "user_tz": -330
    },
    "id": "Ec5oAzi8fzt_"
   },
   "outputs": [],
   "source": [
    "# Creating a funtion\n",
    "def Great():\n",
    "  print(\"Good Morning\")\n"
   ]
  },
  {
   "cell_type": "code",
   "execution_count": 25,
   "metadata": {
    "colab": {
     "base_uri": "https://localhost:8080/"
    },
    "executionInfo": {
     "elapsed": 32,
     "status": "ok",
     "timestamp": 1760425455378,
     "user": {
      "displayName": "Omkar Dhanke",
      "userId": "11081068749527924415"
     },
     "user_tz": -330
    },
    "id": "a7Qmp5YKhxVI",
    "outputId": "29aa5128-7e4a-4bba-e5e2-57aeb354c267"
   },
   "outputs": [
    {
     "name": "stdout",
     "output_type": "stream",
     "text": [
      "Good Morning\n"
     ]
    }
   ],
   "source": [
    "# Calling Great Function\n",
    "Great()"
   ]
  },
  {
   "cell_type": "code",
   "execution_count": 28,
   "metadata": {
    "executionInfo": {
     "elapsed": 8,
     "status": "ok",
     "timestamp": 1760425557647,
     "user": {
      "displayName": "Omkar Dhanke",
      "userId": "11081068749527924415"
     },
     "user_tz": -330
    },
    "id": "MJ-ZaKGyiK1L"
   },
   "outputs": [],
   "source": [
    "def Great(n):\n",
    "  print(f\"Hello {n}\")"
   ]
  },
  {
   "cell_type": "code",
   "execution_count": 30,
   "metadata": {
    "colab": {
     "base_uri": "https://localhost:8080/"
    },
    "executionInfo": {
     "elapsed": 13,
     "status": "ok",
     "timestamp": 1760425606238,
     "user": {
      "displayName": "Omkar Dhanke",
      "userId": "11081068749527924415"
     },
     "user_tz": -330
    },
    "id": "glNY0VxHibOh",
    "outputId": "08728721-ea26-4bce-d4a8-6474ff79103e"
   },
   "outputs": [
    {
     "name": "stdout",
     "output_type": "stream",
     "text": [
      "Hello Omkar\n"
     ]
    }
   ],
   "source": [
    "Great(\"Omkar\")"
   ]
  },
  {
   "cell_type": "code",
   "execution_count": 38,
   "metadata": {
    "executionInfo": {
     "elapsed": 18,
     "status": "ok",
     "timestamp": 1760425958327,
     "user": {
      "displayName": "Omkar Dhanke",
      "userId": "11081068749527924415"
     },
     "user_tz": -330
    },
    "id": "feJW6WGTivpQ"
   },
   "outputs": [],
   "source": [
    "# Create a funtion to perfom addition of two number\n",
    "def addi(a,b):\n",
    "  add = a + b\n",
    "  print(add)\n"
   ]
  },
  {
   "cell_type": "code",
   "execution_count": 41,
   "metadata": {
    "colab": {
     "base_uri": "https://localhost:8080/"
    },
    "executionInfo": {
     "elapsed": 14,
     "status": "ok",
     "timestamp": 1760426104312,
     "user": {
      "displayName": "Omkar Dhanke",
      "userId": "11081068749527924415"
     },
     "user_tz": -330
    },
    "id": "UHyOUO35j71_",
    "outputId": "c5a9b833-b860-4453-df37-e348461986d4"
   },
   "outputs": [
    {
     "name": "stdout",
     "output_type": "stream",
     "text": [
      "1113\n"
     ]
    }
   ],
   "source": [
    "addi(458,655)"
   ]
  },
  {
   "cell_type": "code",
   "execution_count": 53,
   "metadata": {
    "executionInfo": {
     "elapsed": 8,
     "status": "ok",
     "timestamp": 1760426716249,
     "user": {
      "displayName": "Omkar Dhanke",
      "userId": "11081068749527924415"
     },
     "user_tz": -330
    },
    "id": "Ng39mkqNkYei"
   },
   "outputs": [],
   "source": [
    "def my_self():\n",
    "  a = str(input(\"Enter Name: \"))\n",
    "  b = int(input(\"Enter Age: \"))\n",
    "  print(f\"Hello my name is {a} and my age is {b}.\")\n"
   ]
  },
  {
   "cell_type": "code",
   "execution_count": 55,
   "metadata": {
    "colab": {
     "base_uri": "https://localhost:8080/"
    },
    "executionInfo": {
     "elapsed": 7471,
     "status": "ok",
     "timestamp": 1760426888278,
     "user": {
      "displayName": "Omkar Dhanke",
      "userId": "11081068749527924415"
     },
     "user_tz": -330
    },
    "id": "5zhxiJEhmsQL",
    "outputId": "cd0b16d0-c5cc-4954-b499-21ec427747f0"
   },
   "outputs": [
    {
     "name": "stdout",
     "output_type": "stream",
     "text": [
      "Enter Name: fs\n",
      "Enter Age: 21\n",
      "Hello my name is fs and my age is 21.\n"
     ]
    }
   ],
   "source": [
    "my_self()"
   ]
  },
  {
   "cell_type": "code",
   "execution_count": 60,
   "metadata": {
    "executionInfo": {
     "elapsed": 9,
     "status": "ok",
     "timestamp": 1760426982078,
     "user": {
      "displayName": "Omkar Dhanke",
      "userId": "11081068749527924415"
     },
     "user_tz": -330
    },
    "id": "_9xXctsbnm1b"
   },
   "outputs": [],
   "source": [
    "# Write a program using a funtion to fech area of triangle\n",
    "\n",
    "def area_of_triangle(b,h):\n",
    "  a = 0.5 * b * h\n",
    "  print(a)"
   ]
  },
  {
   "cell_type": "code",
   "execution_count": 62,
   "metadata": {
    "colab": {
     "base_uri": "https://localhost:8080/"
    },
    "executionInfo": {
     "elapsed": 13,
     "status": "ok",
     "timestamp": 1760427008599,
     "user": {
      "displayName": "Omkar Dhanke",
      "userId": "11081068749527924415"
     },
     "user_tz": -330
    },
    "id": "fZWRaDEcn15Q",
    "outputId": "3219f907-7435-46c1-898d-314afb41f068"
   },
   "outputs": [
    {
     "name": "stdout",
     "output_type": "stream",
     "text": [
      "60.0\n"
     ]
    }
   ],
   "source": [
    "area_of_triangle(10,12)"
   ]
  },
  {
   "cell_type": "code",
   "execution_count": 1,
   "metadata": {
    "colab": {
     "base_uri": "https://localhost:8080/"
    },
    "executionInfo": {
     "elapsed": 19,
     "status": "ok",
     "timestamp": 1760427318568,
     "user": {
      "displayName": "Omkar Dhanke",
      "userId": "11081068749527924415"
     },
     "user_tz": -330
    },
    "id": "mobOnigNoGB8",
    "outputId": "fa349562-29e8-454a-a8b3-c6e6e73ddc55"
   },
   "outputs": [
    {
     "name": "stdout",
     "output_type": "stream",
     "text": [
      "5.0\n"
     ]
    }
   ],
   "source": [
    "# Write a program to calculate pythagoras theorem\n",
    "def pythogoras(a,b):\n",
    "  c = (a**2 + b**2) ** 0.5\n",
    "  print(c)\n",
    "pythogoras(3,4)"
   ]
  },
  {
   "cell_type": "code",
   "execution_count": 4,
   "metadata": {
    "colab": {
     "base_uri": "https://localhost:8080/"
    },
    "executionInfo": {
     "elapsed": 54591,
     "status": "ok",
     "timestamp": 1760427493257,
     "user": {
      "displayName": "Omkar Dhanke",
      "userId": "11081068749527924415"
     },
     "user_tz": -330
    },
    "id": "Wm2c9XZCovxr",
    "outputId": "68016357-98aa-46e0-9050-536992ff3d18"
   },
   "outputs": [
    {
     "name": "stdout",
     "output_type": "stream",
     "text": [
      "70.18\n"
     ]
    }
   ],
   "source": [
    "def pythogoras():\n",
    "  a = float(input(\"Enter a: \"))\n",
    "  b = float(input(\"Enter b: \"))\n",
    "  c = (a**2 + b**2) ** 0.5\n",
    "  print(round(c,2))\n",
    "pythogoras()"
   ]
  },
  {
   "cell_type": "code",
   "execution_count": 3,
   "metadata": {
    "colab": {
     "base_uri": "https://localhost:8080/"
    },
    "executionInfo": {
     "elapsed": 34,
     "status": "ok",
     "timestamp": 1760427672990,
     "user": {
      "displayName": "Omkar Dhanke",
      "userId": "11081068749527924415"
     },
     "user_tz": -330
    },
    "id": "N73u4-lXpvBL",
    "outputId": "bc52085f-e063-447d-9e49-171834dc5592"
   },
   "outputs": [
    {
     "name": "stdout",
     "output_type": "stream",
     "text": [
      "113.04\n"
     ]
    }
   ],
   "source": [
    "def volume_of_sphere(r):\n",
    "    v = (4/3) * 3.14 * (r ** 3)\n",
    "    return v\n",
    "result = volume_of_sphere(3)\n",
    "print(round(result, 2))\n"
   ]
  },
  {
   "cell_type": "code",
   "execution_count": 1,
   "metadata": {
    "executionInfo": {
     "elapsed": 6,
     "status": "ok",
     "timestamp": 1760427846432,
     "user": {
      "displayName": "Omkar Dhanke",
      "userId": "11081068749527924415"
     },
     "user_tz": -330
    },
    "id": "F4njNvGcqoOs"
   },
   "outputs": [
    {
     "name": "stdout",
     "output_type": "stream",
     "text": [
      "Volume of cylinder: 343359.0\n"
     ]
    }
   ],
   "source": [
    "def volume_of_cylinder():\n",
    "    r = float(input(\"Enter radius (r): \"))\n",
    "    h = float(input(\"Enter height (h): \"))\n",
    "    v = 3.14 * (r ** 2) * h\n",
    "    print(\"Volume of cylinder:\", round(v, 2))\n",
    "volume_of_cylinder()\n"
   ]
  },
  {
   "cell_type": "code",
   "execution_count": null,
   "metadata": {
    "id": "axYnc6IFyK0E"
   },
   "outputs": [],
   "source": [
    "# How to check given number is  prime or not\n",
    "def prime(n):\n",
    "  c = 0\n",
    "  for i in range(2,n):\n",
    "    if n % i == 0:\n",
    "      print(f\"{n} is not prime\")\n",
    "      c += 1\n",
    "      break\n",
    "  if c == 0:\n",
    "    print(f\"{n} is prime\")\n",
    "prime(2)"
   ]
  },
  {
   "cell_type": "code",
   "execution_count": 106,
   "metadata": {
    "executionInfo": {
     "elapsed": 509,
     "status": "ok",
     "timestamp": 1760429655726,
     "user": {
      "displayName": "Omkar Dhanke",
      "userId": "11081068749527924415"
     },
     "user_tz": -330
    },
    "id": "eb92fedc"
   },
   "outputs": [],
   "source": [
    "# Create the function to check given number is  prime or not in while loop\n",
    "def is_prime(n):\n",
    "  c = 0"
   ]
  },
  {
   "cell_type": "code",
   "execution_count": 111,
   "metadata": {
    "colab": {
     "base_uri": "https://localhost:8080/"
    },
    "executionInfo": {
     "elapsed": 21829,
     "status": "ok",
     "timestamp": 1760430022437,
     "user": {
      "displayName": "Omkar Dhanke",
      "userId": "11081068749527924415"
     },
     "user_tz": -330
    },
    "id": "sJzTyrLbyMHv",
    "outputId": "4e554d62-8f94-4af1-a709-3fb9b4139717"
   },
   "outputs": [
    {
     "name": "stdout",
     "output_type": "stream",
     "text": [
      "Enter Percentage: 15\n",
      "Fail\n"
     ]
    }
   ],
   "source": [
    "# Create a funtion to fech grade on the basis of percentage\n",
    "def percentage():\n",
    "  p = float(input(\"Enter Percentage: \"))\n",
    "  if p <= 100 and p >= 90:\n",
    "    print(\"Grade A+\")\n",
    "  elif p < 90 and p >= 80:\n",
    "    print(\"Grade A\")\n",
    "  elif p < 80 and p >= 70:\n",
    "    print(\"Grade B+\")\n",
    "  elif p < 70 and p >= 60:\n",
    "    print(\"Grade B\")\n",
    "  elif p < 60 and p >= 50:\n",
    "    print(\"Grade C+\")\n",
    "  elif p < 50 and p >= 40:\n",
    "    print(\"Grade C\")\n",
    "  elif p < 40 and p >= 33:\n",
    "    print(\"Grade D\")\n",
    "  else:\n",
    "    print(\"Fail\")\n",
    "percentage()"
   ]
  },
  {
   "cell_type": "code",
   "execution_count": 114,
   "metadata": {
    "colab": {
     "base_uri": "https://localhost:8080/"
    },
    "executionInfo": {
     "elapsed": 5133,
     "status": "ok",
     "timestamp": 1760430164667,
     "user": {
      "displayName": "Omkar Dhanke",
      "userId": "11081068749527924415"
     },
     "user_tz": -330
    },
    "id": "JmdDgLiBzgJi",
    "outputId": "5346f0ac-e3bc-4045-e15e-4184e813dc25"
   },
   "outputs": [
    {
     "name": "stdout",
     "output_type": "stream",
     "text": [
      "Enter Percentage: 59.17\n",
      "C\n"
     ]
    }
   ],
   "source": [
    "def percentage_2():\n",
    "  p = float(input(\"Enter Percentage: \"))\n",
    "  if p <= 100:\n",
    "      if p <= 80:\n",
    "          if p <= 70:\n",
    "              if p <= 60:\n",
    "                  if p <= 50:\n",
    "                      if p <= 35:\n",
    "                          if p <= 0:\n",
    "                              print(\"Invalid\")\n",
    "                          else:\n",
    "                              print(\"Fail\")\n",
    "                      else:\n",
    "                          print(\"D\")\n",
    "                  else:\n",
    "                      print(\"C\")\n",
    "              else:\n",
    "                  print(\"B\")\n",
    "          else:\n",
    "              print(\"A\")\n",
    "      else:\n",
    "          print(\"A+\")\n",
    "  else:\n",
    "      print(\"Invalid Percentage\")\n",
    "percentage_2()"
   ]
  }
 ],
 "metadata": {
  "colab": {
   "authorship_tag": "ABX9TyN7f51eEOQTZ6v3c6/5zAZl",
   "provenance": []
  },
  "kernelspec": {
   "display_name": "Python 3",
   "name": "python3"
  },
  "language_info": {
   "codemirror_mode": {
    "name": "ipython",
    "version": 3
   },
   "file_extension": ".py",
   "mimetype": "text/x-python",
   "name": "python",
   "nbconvert_exporter": "python",
   "pygments_lexer": "ipython3",
   "version": "3.12.10"
  }
 },
 "nbformat": 4,
 "nbformat_minor": 0
}
